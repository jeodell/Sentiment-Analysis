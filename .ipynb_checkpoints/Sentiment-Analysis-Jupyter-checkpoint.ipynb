{
 "cells": [
  {
   "cell_type": "markdown",
   "metadata": {},
   "source": [
    "# **Sentiment Analysis Project**\n",
    "## The first half of this project analyzes the natural language used in the given articles. There are two input files - the complete dataset (df_full) and a portion of it (df_small). Positive and negative lexicon files are provided for representing the connotation of the words. The articles are evaluated using these files and given a score. The scores can be seen in the histograms. These graphs also mark the end of the first half of the project. The second half combines the contents of all articles, removes stop words, applies a stemmer, and then displays a word cloud of the most frequently used words."
   ]
  },
  {
   "cell_type": "code",
   "execution_count": 1,
   "metadata": {},
   "outputs": [
    {
     "name": "stderr",
     "output_type": "stream",
     "text": [
      "[nltk_data] Downloading package stopwords to\n",
      "[nltk_data]     C:\\Users\\Macintosh\\AppData\\Roaming\\nltk_data...\n",
      "[nltk_data]   Package stopwords is already up-to-date!\n"
     ]
    },
    {
     "data": {
      "text/plain": [
       "True"
      ]
     },
     "execution_count": 1,
     "metadata": {},
     "output_type": "execute_result"
    }
   ],
   "source": [
    "import re\n",
    "from os import path\n",
    "import numpy as np\n",
    "import matplotlib.pyplot as plt\n",
    "import pandas as pd\n",
    "from wordcloud import WordCloud\n",
    "import nltk\n",
    "from nltk.stem.snowball import SnowballStemmer\n",
    "from nltk import word_tokenize as word_tokenize\n",
    "\n",
    "nltk.download('stopwords')"
   ]
  },
  {
   "cell_type": "markdown",
   "metadata": {},
   "source": [
    "## **Read in the two datasets**"
   ]
  },
  {
   "cell_type": "code",
   "execution_count": 2,
   "metadata": {},
   "outputs": [],
   "source": [
    "df_small = pd.read_csv('data_raw/bb/bb_2011_2013.csv')\n",
    "df_full = pd.read_csv('data_raw/bb/bb_1996_2013.csv', index_col=0)"
   ]
  },
  {
   "cell_type": "markdown",
   "metadata": {},
   "source": [
    "## **Preview of the two datasets and number of articles in each dataset (number of rows)**"
   ]
  },
  {
   "cell_type": "code",
   "execution_count": 3,
   "metadata": {},
   "outputs": [
    {
     "data": {
      "text/html": [
       "<div>\n",
       "<style scoped>\n",
       "    .dataframe tbody tr th:only-of-type {\n",
       "        vertical-align: middle;\n",
       "    }\n",
       "\n",
       "    .dataframe tbody tr th {\n",
       "        vertical-align: top;\n",
       "    }\n",
       "\n",
       "    .dataframe thead th {\n",
       "        text-align: right;\n",
       "    }\n",
       "</style>\n",
       "<table border=\"1\" class=\"dataframe\">\n",
       "  <thead>\n",
       "    <tr style=\"text-align: right;\">\n",
       "      <th></th>\n",
       "      <th>year</th>\n",
       "      <th>month</th>\n",
       "      <th>text</th>\n",
       "    </tr>\n",
       "  </thead>\n",
       "  <tbody>\n",
       "    <tr>\n",
       "      <th>0</th>\n",
       "      <td>2011</td>\n",
       "      <td>1</td>\n",
       "      <td>The manufacturing sector continued to recover ...</td>\n",
       "    </tr>\n",
       "    <tr>\n",
       "      <th>1</th>\n",
       "      <td>2011</td>\n",
       "      <td>3</td>\n",
       "      <td>Retail spending strengthened compared with a y...</td>\n",
       "    </tr>\n",
       "    <tr>\n",
       "      <th>2</th>\n",
       "      <td>2011</td>\n",
       "      <td>4</td>\n",
       "      <td>Consumer spending picked up modestly across mo...</td>\n",
       "    </tr>\n",
       "    <tr>\n",
       "      <th>3</th>\n",
       "      <td>2011</td>\n",
       "      <td>6</td>\n",
       "      <td>Consumer spending was generally described as s...</td>\n",
       "    </tr>\n",
       "    <tr>\n",
       "      <th>4</th>\n",
       "      <td>2011</td>\n",
       "      <td>7</td>\n",
       "      <td>Consumer spending increased overall in most Di...</td>\n",
       "    </tr>\n",
       "  </tbody>\n",
       "</table>\n",
       "</div>"
      ],
      "text/plain": [
       "   year  month                                               text\n",
       "0  2011      1  The manufacturing sector continued to recover ...\n",
       "1  2011      3  Retail spending strengthened compared with a y...\n",
       "2  2011      4  Consumer spending picked up modestly across mo...\n",
       "3  2011      6  Consumer spending was generally described as s...\n",
       "4  2011      7  Consumer spending increased overall in most Di..."
      ]
     },
     "execution_count": 3,
     "metadata": {},
     "output_type": "execute_result"
    }
   ],
   "source": [
    "df_small.head()"
   ]
  },
  {
   "cell_type": "code",
   "execution_count": 4,
   "metadata": {},
   "outputs": [
    {
     "data": {
      "text/plain": [
       "(21, 3)"
      ]
     },
     "execution_count": 4,
     "metadata": {},
     "output_type": "execute_result"
    }
   ],
   "source": [
    "df_small.shape"
   ]
  },
  {
   "cell_type": "code",
   "execution_count": 5,
   "metadata": {},
   "outputs": [
    {
     "data": {
      "text/html": [
       "<div>\n",
       "<style scoped>\n",
       "    .dataframe tbody tr th:only-of-type {\n",
       "        vertical-align: middle;\n",
       "    }\n",
       "\n",
       "    .dataframe tbody tr th {\n",
       "        vertical-align: top;\n",
       "    }\n",
       "\n",
       "    .dataframe thead th {\n",
       "        text-align: right;\n",
       "    }\n",
       "</style>\n",
       "<table border=\"1\" class=\"dataframe\">\n",
       "  <thead>\n",
       "    <tr style=\"text-align: right;\">\n",
       "      <th></th>\n",
       "      <th>location</th>\n",
       "      <th>year</th>\n",
       "      <th>month</th>\n",
       "      <th>text</th>\n",
       "    </tr>\n",
       "  </thead>\n",
       "  <tbody>\n",
       "    <tr>\n",
       "      <th>1</th>\n",
       "      <td>Richmond</td>\n",
       "      <td>2011</td>\n",
       "      <td>11</td>\n",
       "      <td>district manufacturing activity was little cha...</td>\n",
       "    </tr>\n",
       "    <tr>\n",
       "      <th>2</th>\n",
       "      <td>Richmond</td>\n",
       "      <td>2011</td>\n",
       "      <td>10</td>\n",
       "      <td>district manufacturing activity continued to c...</td>\n",
       "    </tr>\n",
       "    <tr>\n",
       "      <th>3</th>\n",
       "      <td>Boston</td>\n",
       "      <td>2012</td>\n",
       "      <td>8</td>\n",
       "      <td>first district retail contacts offer a very mi...</td>\n",
       "    </tr>\n",
       "    <tr>\n",
       "      <th>4</th>\n",
       "      <td>Boston</td>\n",
       "      <td>2012</td>\n",
       "      <td>2</td>\n",
       "      <td>first district retailers responding in this ro...</td>\n",
       "    </tr>\n",
       "    <tr>\n",
       "      <th>5</th>\n",
       "      <td>Boston</td>\n",
       "      <td>2012</td>\n",
       "      <td>1</td>\n",
       "      <td>as in mid-november, retail contacts for this r...</td>\n",
       "    </tr>\n",
       "  </tbody>\n",
       "</table>\n",
       "</div>"
      ],
      "text/plain": [
       "   location  year  month                                               text\n",
       "1  Richmond  2011     11  district manufacturing activity was little cha...\n",
       "2  Richmond  2011     10  district manufacturing activity continued to c...\n",
       "3    Boston  2012      8  first district retail contacts offer a very mi...\n",
       "4    Boston  2012      2  first district retailers responding in this ro...\n",
       "5    Boston  2012      1  as in mid-november, retail contacts for this r..."
      ]
     },
     "execution_count": 5,
     "metadata": {},
     "output_type": "execute_result"
    }
   ],
   "source": [
    "df_full.head()"
   ]
  },
  {
   "cell_type": "code",
   "execution_count": 6,
   "metadata": {},
   "outputs": [
    {
     "data": {
      "text/plain": [
       "(1608, 4)"
      ]
     },
     "execution_count": 6,
     "metadata": {},
     "output_type": "execute_result"
    }
   ],
   "source": [
    "df_full.shape"
   ]
  },
  {
   "cell_type": "markdown",
   "metadata": {},
   "source": [
    "## **Example of one of the articles to analyze**"
   ]
  },
  {
   "cell_type": "code",
   "execution_count": 7,
   "metadata": {},
   "outputs": [
    {
     "data": {
      "text/plain": [
       "'The manufacturing sector continued to recover across all Districts. Contacts in the Richmond, Chicago, and St. Louis Districts identified a strong flow of new orders. Respondents in the Chicago District pointed to pent-up demand for both light and heavy motor vehicles, attributed to an aging fleet, as a key driver of activity in the manufacturing sector. The Cleveland District described orders as above expectations and respondents in the New York District noted that orders had picked up since the prior report. Overall, demand was generally characterized as stable and steady, and no District made mention of lingering fears of a double-dip recession, in contrast to the summer reporting periods. Capacity utilization continued to trend higher and is approaching normal rates for some contacts in the Cleveland and San Francisco Districts, while production in high-tech manufacturing was reportedly at high capacity in Dallas; some manufacturers in the St. Louis and Minneapolis Districts said they have or will soon expand capacity. Production levels increased in the Cleveland, Atlanta, Chicago, and Kansas City Districts. On the negative side, the Philadelphia District characterized the flow of new orders as \"erratic,\" while the Boston, Atlanta, and Dallas Districts identified construction-related manufacturers as continuing to show considerable weakness, and makers of wood products in the St. Louis and San Francisco Districts reported very soft demand.\\nRetail spending showed improvement across all Districts, with most retailers reporting sales growth consistent with or ahead of plan for the recent 2010 holiday season. Boston, Richmond, Atlanta, Chicago, and Kansas City observed consumers positively reacting to promotions and discounting, although Philadelphia and San Francisco reported that retailers relied less heavily on discounting. Inclement weather, including the late December blizzard, had some impact on sales in the New York and Philadelphia Districts. New York , Cleveland, and Chicago cited increased consumer confidence.\\nActivity was said to be steady to increasing among Districts reporting on nonfinancial services. Providers of information technology services saw increases in sales in the Kansas City and San Francisco Districts. Advertising and consulting contacts in the Boston District reported significant growth in demand. In the Dallas District, legal firms noted an uptick in demand for services, while accounting firms reported seasonal slowness. Reports from the healthcare sector were mixed; St. Louis and Minneapolis reported ongoing increases in demand for healthcare workers, while San Francisco indicated a slight weakening in demand for healthcare services and Richmond reported little change. Demand for staffing services remained on an upward trend, with increases reported by New York, Philadelphia, Richmond, and Chicago. In addition, an employment-agency contact in the New York District observed increased demand for employees in the legal and financial services sectors, while the Dallas District noted strong, steady demand for workers in the professional, technical, healthcare, and finance fields. Reports from the transportation services sector were mixed, with increased demand reported by trucking firms and airports in the Richmond District, and slower overall activity in the Kansas City District. Freight companies in the Cleveland District noted stable volumes over the past six weeks, and contacts in the Atlanta District reported moderating freight volumes after significant increases in earlier 2010 reporting periods.\\nActivity in residential real estate and new home construction remained slow across all Districts. A majority of the Districts, including Boston, New York, Cleveland, Atlanta, Chicago, Minneapolis, Dallas, and San Francisco characterized local housing markets as weak and sluggish with little change from the previous reporting period. Kansas City noted further weakening, while Richmond received reports of both flat activity and further declines. The St. Louis District saw additional declines in existing home sales, but also cited increased new home construction permits. All Districts attributed slumping activity to concerns about the pace of economic recovery, especially in employment, while the Philadelphia, Atlanta, and Chicago Districts mentioned difficulty obtaining credit as another constraint on demand. High levels of existing home inventories continued to damp the pace of new home construction in most Districts reporting on construction, although Boston, Richmond, Dallas, and San Francisco mentioned pick-ups in multifamily construction within their Districts. Home prices generally declined or held steady in the New York, Philadelphia, Cleveland, Richmond, Atlanta, Chicago, Kansas City, Minneapolis, and San Francisco Districts; the New York, Atlanta, Chicago, and San Francisco Districts mentioned distressed properties placing downward pressure on prices. Boston reported rising median home prices across most states in the District, but contacts attributed those increases to relatively higher sales of more expensive properties rather than a general upward movement in home prices. Outlooks for residential real estate in the coming year were mixed, with contacts in most Districts described as expecting continued weak conditions.\\nReports on credit activity were mixed across Federal Reserve Districts. Overall, loan demand was reported as stable in San Francisco, mixed in New York, steady to slightly softer in Kansas City, weaker in St. Louis and Dallas, and slowly improving in Philadelphia and Richmond. Demand for consumer loans declined in the New York, Cleveland, St. Louis, Kansas City, and San Francisco Districts. By contrast, consumer lending increased in the Dallas District, and exceeded expectations in the Chicago District. Bankers in Philadelphia, Cleveland, and Richmond anticipate consumer lending to expand in 2011. Demand for commercial and industrial loans was flat in New York, Kansas City, and San Francisco. Lenders in the New York, Cleveland, Minneapolis, Kansas City, and San Francisco Districts noted a drop in residential mortgage refinancing owing to the recent rise in interest rates, whereas Richmond reported strong demand for home refinancing. The Cleveland and Richmond Districts observed a pick-up in auto lending. Demand for residential real estate loans eased in New York and Kansas City, remained weak in Cleveland and Dallas, but increased in the Richmond District. Real estate lending declined in the St. Louis District. Lending in the commercial mortgage category increased in New York, was unchanged in Kansas City, and was weak in Dallas, with the exception of multifamily. Most Districts reporting on credit quality described it as improving, while bankers in the Cleveland District said that quality remained stable or edged up slightly. Reports on credit standards were mixed in New York, while standards were said to have eased somewhat in Atlanta, remained restrictive in San Francisco, and held steady in Kansas City. Delinquency rates were flat or trending down in Cleveland, while delinquency rates in the New York District rose for commercial mortgages, decreased in the consumer lending category, and remained unchanged for all other loans. Total deposits rose in the Cleveland and St. Louis Districts and were stable in the Kansas City District.\\nUnfavorable weather conditions damped agricultural production in some areas. The Dallas District reported that drought negatively affected range conditions by adding to costs of feeding livestock, while Atlanta cited the challenges prolonged drought presented to fruit growers. The Kansas City District indicated that dry weather could affect winter wheat development. Large snow falls hampered some ranchers in the Minneapolis District. However, agricultural demand generally improved among reporting Districts, and output prices rose, especially for corn, soybeans, wheat, cattle, and cotton.\\nMost District reports mentioned increasing prevalence of cost pressures but only modest pass-through into final prices because of competitive pressures. Philadelphia and San Francisco noted somewhat reduced discounting in the retail sector during the holiday selling season, while New York, Minneapolis, and Dallas indicated retail prices were stable, Richmond said retail price increases had slowed, and Chicago and Kansas City cited discounting or depressed retail margins. For both retailers and manufacturers, increases in selling prices, if occurring, were said to be selective. Specific markets or products identified as experiencing high or rising prices included various food products, steel and other metals, building materials, textiles, chemicals, and petroleum-related products. Many Districts mentioned concerns among business contacts that petroleum-related prices, already above year-earlier levels, will continue rising in 2011. The Philadelphia and Kansas City reports indicated that manufacturing firms planned to attempt more price increases in 2011, while some manufacturers in the Boston District were uncertain their price increases would stick and the Chicago report projected only \"limited and gradual\" pass-through.\\n'"
      ]
     },
     "execution_count": 7,
     "metadata": {},
     "output_type": "execute_result"
    }
   ],
   "source": [
    "df_small['text'][0]"
   ]
  },
  {
   "cell_type": "markdown",
   "metadata": {},
   "source": [
    "## **Read the contents of the lexicon files and combine the data into positive and negative dataframes**"
   ]
  },
  {
   "cell_type": "code",
   "execution_count": 8,
   "metadata": {},
   "outputs": [],
   "source": [
    "positive_lexicon_files = [\"data_raw/lexicons/lexicon.generic.positive.HuLiu.csv\",\n",
    "                          \"data_raw/lexicons/lexicon.finance.positive.csv\",\n",
    "                          \"data_raw/lexicons/lexicon.finance.positive.LoughranMcDonald.csv\"]\n",
    "negative_lexicon_files = [\"data_raw/lexicons/lexicon.generic.negative.HuLiu.csv\",\n",
    "                          \"data_raw/lexicons/lexicon.finance.negative.LoughranMcDonald.csv\",\n",
    "                          \"data_raw/lexicons/lexicon.finance.negative.csv\"]\n",
    "\n",
    "pos_lexicon_df = pd.DataFrame()\n",
    "neg_lexicon_df = pd.DataFrame()"
   ]
  },
  {
   "cell_type": "code",
   "execution_count": 9,
   "metadata": {},
   "outputs": [],
   "source": [
    "for file in positive_lexicon_files:\n",
    "    df_file = pd.read_csv(file, names=['positive_lexicon'])\n",
    "    pos_lexicon_df = pd.concat([pos_lexicon_df, df_file])\n",
    "    \n",
    "for file in negative_lexicon_files:\n",
    "    df_file = pd.read_csv(file, encoding='latin_1', names=['negative_lexicon'])\n",
    "    neg_lexicon_df = pd.concat([neg_lexicon_df, df_file])"
   ]
  },
  {
   "cell_type": "markdown",
   "metadata": {},
   "source": [
    "## **Preview the positive and negative lexicon dataframes before cleaning**"
   ]
  },
  {
   "cell_type": "code",
   "execution_count": 10,
   "metadata": {},
   "outputs": [
    {
     "data": {
      "text/html": [
       "<div>\n",
       "<style scoped>\n",
       "    .dataframe tbody tr th:only-of-type {\n",
       "        vertical-align: middle;\n",
       "    }\n",
       "\n",
       "    .dataframe tbody tr th {\n",
       "        vertical-align: top;\n",
       "    }\n",
       "\n",
       "    .dataframe thead th {\n",
       "        text-align: right;\n",
       "    }\n",
       "</style>\n",
       "<table border=\"1\" class=\"dataframe\">\n",
       "  <thead>\n",
       "    <tr style=\"text-align: right;\">\n",
       "      <th></th>\n",
       "      <th>positive_lexicon</th>\n",
       "    </tr>\n",
       "  </thead>\n",
       "  <tbody>\n",
       "    <tr>\n",
       "      <th>0</th>\n",
       "      <td>a+</td>\n",
       "    </tr>\n",
       "    <tr>\n",
       "      <th>1</th>\n",
       "      <td>abound</td>\n",
       "    </tr>\n",
       "    <tr>\n",
       "      <th>2</th>\n",
       "      <td>abounds</td>\n",
       "    </tr>\n",
       "    <tr>\n",
       "      <th>3</th>\n",
       "      <td>abundance</td>\n",
       "    </tr>\n",
       "    <tr>\n",
       "      <th>4</th>\n",
       "      <td>abundant</td>\n",
       "    </tr>\n",
       "    <tr>\n",
       "      <th>...</th>\n",
       "      <td>...</td>\n",
       "    </tr>\n",
       "    <tr>\n",
       "      <th>349</th>\n",
       "      <td>WIN</td>\n",
       "    </tr>\n",
       "    <tr>\n",
       "      <th>350</th>\n",
       "      <td>WINNER</td>\n",
       "    </tr>\n",
       "    <tr>\n",
       "      <th>351</th>\n",
       "      <td>WINNERS</td>\n",
       "    </tr>\n",
       "    <tr>\n",
       "      <th>352</th>\n",
       "      <td>WINNING</td>\n",
       "    </tr>\n",
       "    <tr>\n",
       "      <th>353</th>\n",
       "      <td>WORTHY</td>\n",
       "    </tr>\n",
       "  </tbody>\n",
       "</table>\n",
       "<p>2380 rows × 1 columns</p>\n",
       "</div>"
      ],
      "text/plain": [
       "    positive_lexicon\n",
       "0                 a+\n",
       "1             abound\n",
       "2            abounds\n",
       "3          abundance\n",
       "4           abundant\n",
       "..               ...\n",
       "349              WIN\n",
       "350           WINNER\n",
       "351          WINNERS\n",
       "352          WINNING\n",
       "353           WORTHY\n",
       "\n",
       "[2380 rows x 1 columns]"
      ]
     },
     "execution_count": 10,
     "metadata": {},
     "output_type": "execute_result"
    }
   ],
   "source": [
    "pos_lexicon_df"
   ]
  },
  {
   "cell_type": "code",
   "execution_count": 11,
   "metadata": {},
   "outputs": [
    {
     "data": {
      "text/html": [
       "<div>\n",
       "<style scoped>\n",
       "    .dataframe tbody tr th:only-of-type {\n",
       "        vertical-align: middle;\n",
       "    }\n",
       "\n",
       "    .dataframe tbody tr th {\n",
       "        vertical-align: top;\n",
       "    }\n",
       "\n",
       "    .dataframe thead th {\n",
       "        text-align: right;\n",
       "    }\n",
       "</style>\n",
       "<table border=\"1\" class=\"dataframe\">\n",
       "  <thead>\n",
       "    <tr style=\"text-align: right;\">\n",
       "      <th></th>\n",
       "      <th>negative_lexicon</th>\n",
       "    </tr>\n",
       "  </thead>\n",
       "  <tbody>\n",
       "    <tr>\n",
       "      <th>0</th>\n",
       "      <td>2-faced</td>\n",
       "    </tr>\n",
       "    <tr>\n",
       "      <th>1</th>\n",
       "      <td>2-faces</td>\n",
       "    </tr>\n",
       "    <tr>\n",
       "      <th>2</th>\n",
       "      <td>abnormal</td>\n",
       "    </tr>\n",
       "    <tr>\n",
       "      <th>3</th>\n",
       "      <td>abolish</td>\n",
       "    </tr>\n",
       "    <tr>\n",
       "      <th>4</th>\n",
       "      <td>abominable</td>\n",
       "    </tr>\n",
       "    <tr>\n",
       "      <th>...</th>\n",
       "      <td>...</td>\n",
       "    </tr>\n",
       "    <tr>\n",
       "      <th>24</th>\n",
       "      <td>sluggish</td>\n",
       "    </tr>\n",
       "    <tr>\n",
       "      <th>25</th>\n",
       "      <td>slowed</td>\n",
       "    </tr>\n",
       "    <tr>\n",
       "      <th>26</th>\n",
       "      <td>slowdown</td>\n",
       "    </tr>\n",
       "    <tr>\n",
       "      <th>27</th>\n",
       "      <td>slower     \\t</td>\n",
       "    </tr>\n",
       "    <tr>\n",
       "      <th>28</th>\n",
       "      <td>recession</td>\n",
       "    </tr>\n",
       "  </tbody>\n",
       "</table>\n",
       "<p>7141 rows × 1 columns</p>\n",
       "</div>"
      ],
      "text/plain": [
       "   negative_lexicon\n",
       "0           2-faced\n",
       "1           2-faces\n",
       "2          abnormal\n",
       "3           abolish\n",
       "4        abominable\n",
       "..              ...\n",
       "24  sluggish       \n",
       "25    slowed       \n",
       "26  slowdown       \n",
       "27    slower     \\t\n",
       "28      recession  \n",
       "\n",
       "[7141 rows x 1 columns]"
      ]
     },
     "execution_count": 11,
     "metadata": {},
     "output_type": "execute_result"
    }
   ],
   "source": [
    "neg_lexicon_df"
   ]
  },
  {
   "cell_type": "markdown",
   "metadata": {},
   "source": [
    "## **Preview the positive and negative lexicon dataframes after cleaning**"
   ]
  },
  {
   "cell_type": "code",
   "execution_count": 12,
   "metadata": {},
   "outputs": [],
   "source": [
    "pos_lexicon_df = pos_lexicon_df.apply(lambda x: x.str.lower())\n",
    "pos_lexicon_df = pos_lexicon_df.apply(lambda x: x.str.replace('\\\\t', '').replace('\\\\r', '').replace('`', '').replace('\\\\n', ''))"
   ]
  },
  {
   "cell_type": "code",
   "execution_count": 13,
   "metadata": {},
   "outputs": [
    {
     "data": {
      "text/html": [
       "<div>\n",
       "<style scoped>\n",
       "    .dataframe tbody tr th:only-of-type {\n",
       "        vertical-align: middle;\n",
       "    }\n",
       "\n",
       "    .dataframe tbody tr th {\n",
       "        vertical-align: top;\n",
       "    }\n",
       "\n",
       "    .dataframe thead th {\n",
       "        text-align: right;\n",
       "    }\n",
       "</style>\n",
       "<table border=\"1\" class=\"dataframe\">\n",
       "  <thead>\n",
       "    <tr style=\"text-align: right;\">\n",
       "      <th></th>\n",
       "      <th>positive_lexicon</th>\n",
       "    </tr>\n",
       "  </thead>\n",
       "  <tbody>\n",
       "    <tr>\n",
       "      <th>0</th>\n",
       "      <td>a+</td>\n",
       "    </tr>\n",
       "    <tr>\n",
       "      <th>1</th>\n",
       "      <td>abound</td>\n",
       "    </tr>\n",
       "    <tr>\n",
       "      <th>2</th>\n",
       "      <td>abounds</td>\n",
       "    </tr>\n",
       "    <tr>\n",
       "      <th>3</th>\n",
       "      <td>abundance</td>\n",
       "    </tr>\n",
       "    <tr>\n",
       "      <th>4</th>\n",
       "      <td>abundant</td>\n",
       "    </tr>\n",
       "    <tr>\n",
       "      <th>...</th>\n",
       "      <td>...</td>\n",
       "    </tr>\n",
       "    <tr>\n",
       "      <th>349</th>\n",
       "      <td>win</td>\n",
       "    </tr>\n",
       "    <tr>\n",
       "      <th>350</th>\n",
       "      <td>winner</td>\n",
       "    </tr>\n",
       "    <tr>\n",
       "      <th>351</th>\n",
       "      <td>winners</td>\n",
       "    </tr>\n",
       "    <tr>\n",
       "      <th>352</th>\n",
       "      <td>winning</td>\n",
       "    </tr>\n",
       "    <tr>\n",
       "      <th>353</th>\n",
       "      <td>worthy</td>\n",
       "    </tr>\n",
       "  </tbody>\n",
       "</table>\n",
       "<p>2380 rows × 1 columns</p>\n",
       "</div>"
      ],
      "text/plain": [
       "    positive_lexicon\n",
       "0                 a+\n",
       "1             abound\n",
       "2            abounds\n",
       "3          abundance\n",
       "4           abundant\n",
       "..               ...\n",
       "349              win\n",
       "350           winner\n",
       "351          winners\n",
       "352          winning\n",
       "353           worthy\n",
       "\n",
       "[2380 rows x 1 columns]"
      ]
     },
     "execution_count": 13,
     "metadata": {},
     "output_type": "execute_result"
    }
   ],
   "source": [
    "pos_lexicon_df"
   ]
  },
  {
   "cell_type": "code",
   "execution_count": 14,
   "metadata": {},
   "outputs": [],
   "source": [
    "neg_lexicon_df = neg_lexicon_df.apply(lambda x: x.str.lower())\n",
    "neg_lexicon_df = neg_lexicon_df.apply(lambda x: x.str.replace('\\\\t', '').replace('\\\\r', '').replace('`', '').replace('\\\\n', ''))"
   ]
  },
  {
   "cell_type": "code",
   "execution_count": 15,
   "metadata": {},
   "outputs": [
    {
     "data": {
      "text/html": [
       "<div>\n",
       "<style scoped>\n",
       "    .dataframe tbody tr th:only-of-type {\n",
       "        vertical-align: middle;\n",
       "    }\n",
       "\n",
       "    .dataframe tbody tr th {\n",
       "        vertical-align: top;\n",
       "    }\n",
       "\n",
       "    .dataframe thead th {\n",
       "        text-align: right;\n",
       "    }\n",
       "</style>\n",
       "<table border=\"1\" class=\"dataframe\">\n",
       "  <thead>\n",
       "    <tr style=\"text-align: right;\">\n",
       "      <th></th>\n",
       "      <th>negative_lexicon</th>\n",
       "    </tr>\n",
       "  </thead>\n",
       "  <tbody>\n",
       "    <tr>\n",
       "      <th>0</th>\n",
       "      <td>2-faced</td>\n",
       "    </tr>\n",
       "    <tr>\n",
       "      <th>1</th>\n",
       "      <td>2-faces</td>\n",
       "    </tr>\n",
       "    <tr>\n",
       "      <th>2</th>\n",
       "      <td>abnormal</td>\n",
       "    </tr>\n",
       "    <tr>\n",
       "      <th>3</th>\n",
       "      <td>abolish</td>\n",
       "    </tr>\n",
       "    <tr>\n",
       "      <th>4</th>\n",
       "      <td>abominable</td>\n",
       "    </tr>\n",
       "    <tr>\n",
       "      <th>...</th>\n",
       "      <td>...</td>\n",
       "    </tr>\n",
       "    <tr>\n",
       "      <th>24</th>\n",
       "      <td>sluggish</td>\n",
       "    </tr>\n",
       "    <tr>\n",
       "      <th>25</th>\n",
       "      <td>slowed</td>\n",
       "    </tr>\n",
       "    <tr>\n",
       "      <th>26</th>\n",
       "      <td>slowdown</td>\n",
       "    </tr>\n",
       "    <tr>\n",
       "      <th>27</th>\n",
       "      <td>slower</td>\n",
       "    </tr>\n",
       "    <tr>\n",
       "      <th>28</th>\n",
       "      <td>recession</td>\n",
       "    </tr>\n",
       "  </tbody>\n",
       "</table>\n",
       "<p>7141 rows × 1 columns</p>\n",
       "</div>"
      ],
      "text/plain": [
       "   negative_lexicon\n",
       "0           2-faced\n",
       "1           2-faces\n",
       "2          abnormal\n",
       "3           abolish\n",
       "4        abominable\n",
       "..              ...\n",
       "24  sluggish       \n",
       "25    slowed       \n",
       "26  slowdown       \n",
       "27      slower     \n",
       "28      recession  \n",
       "\n",
       "[7141 rows x 1 columns]"
      ]
     },
     "execution_count": 15,
     "metadata": {},
     "output_type": "execute_result"
    }
   ],
   "source": [
    "neg_lexicon_df"
   ]
  },
  {
   "cell_type": "markdown",
   "metadata": {},
   "source": [
    "## **Function used to determine the score of an article**"
   ]
  },
  {
   "cell_type": "code",
   "execution_count": 16,
   "metadata": {},
   "outputs": [],
   "source": [
    "def scoreSentiment(data_df, pos_lexicon_df, neg_lexicon_df):\n",
    "    pos_list = set(pos_lexicon_df['positive_lexicon'])\n",
    "    neg_list = set(neg_lexicon_df['negative_lexicon'])\n",
    "    scores = []\n",
    "    row_num = data_df.index[0]\n",
    "    for row in data_df.iterrows():\n",
    "        try:\n",
    "            text = data_df['text'][row_num]\n",
    "        except KeyError:\n",
    "            continue\n",
    "        row_num += 1\n",
    "        pos = 0\n",
    "        neg = 0\n",
    "        words = []\n",
    "        text = re.sub(r'[^a-zA-Z\\s\\'-]', '', text)\n",
    "        for word in text.split():\n",
    "            words.append(word)\n",
    "        # print(str(len(words)) + ' words in the report')\n",
    "        for word in words:\n",
    "            if word in pos_list:\n",
    "                # print('POSITIVE Match:\\t' + word)\n",
    "                pos += 1\n",
    "            elif word in neg_list:\n",
    "                # print('NEGATIVE Match:\\t' + word)\n",
    "                neg += 1\n",
    "        score = pos - neg\n",
    "        # print('pos:\\t' + str(pos) + '\\tneg:\\t' + str(neg) + '\\ttotal:\\t' + str(score))\n",
    "        scores.append(score)\n",
    "    return scores"
   ]
  },
  {
   "cell_type": "markdown",
   "metadata": {},
   "source": [
    "## **Plots showing the scores for df_small and df_full**"
   ]
  },
  {
   "cell_type": "code",
   "execution_count": 17,
   "metadata": {},
   "outputs": [],
   "source": [
    "small_scores = scoreSentiment(df_small, pos_lexicon_df, neg_lexicon_df)\n",
    "small_scores.sort()"
   ]
  },
  {
   "cell_type": "code",
   "execution_count": 18,
   "metadata": {},
   "outputs": [
    {
     "data": {
      "text/plain": [
       "'[-15, -10, -4, -3, 1, 2, 3, 7, 9, 9, 10, 10, 13, 13, 15, 16, 16, 20, 23, 26, 34]'"
      ]
     },
     "execution_count": 18,
     "metadata": {},
     "output_type": "execute_result"
    }
   ],
   "source": [
    "str(small_scores)"
   ]
  },
  {
   "cell_type": "code",
   "execution_count": 19,
   "metadata": {},
   "outputs": [
    {
     "data": {
      "image/png": "[encoded data removed]",
      "text/plain": [
       "<Figure size 432x288 with 1 Axes>"
      ]
     },
     "metadata": {
      "needs_background": "light"
     },
     "output_type": "display_data"
    }
   ],
   "source": [
    "plt.hist(small_scores, bins=range(-20, 40, 10))\n",
    "plt.show()"
   ]
  },
  {
   "cell_type": "code",
   "execution_count": 20,
   "metadata": {},
   "outputs": [],
   "source": [
    "full_scores = scoreSentiment(df_full, pos_lexicon_df, neg_lexicon_df)\n",
    "full_scores.sort()"
   ]
  },
  {
   "cell_type": "code",
   "execution_count": 21,
   "metadata": {},
   "outputs": [
    {
     "data": {
      "text/plain": [
       "'[-30, -15, -11, -11, -10, -9, -9, -9, -9, -8, -8, -8, -8, -7, -7, -6, -6, -5, -5, -5, -5, -5, -5, -5, -4, -4, -4, -4, -4, -3, -3, -3, -3, -3, -3, -2, -2, -2, -2, -2, -2, -1, -1, -1, -1, -1, -1, -1, -1, -1, -1, -1, -1, -1, -1, -1, -1, -1, 0, 0, 0, 0, 0, 1, 1, 1, 1, 1, 1, 1, 1, 1, 2, 2, 2, 2, 2, 2, 2, 2, 2, 2, 2, 2, 2, 2, 3, 3, 3, 3, 3, 3, 3, 4, 4, 4, 4, 4, 4, 4, 4, 4, 4, 4, 4, 4, 5, 5, 5, 5, 5, 5, 5, 5, 5, 5, 5, 5, 5, 6, 6, 6, 6, 6, 7, 7, 7, 7, 7, 7, 7, 7, 7, 7, 7, 7, 8, 8, 8, 8, 8, 8, 8, 8, 8, 8, 8, 8, 8, 8, 8, 8, 8, 8, 8, 8, 8, 8, 9, 9, 9, 9, 9, 9, 9, 9, 9, 10, 10, 10, 10, 10, 10, 10, 10, 10, 10, 11, 11, 11, 11, 11, 11, 11, 11, 11, 11, 11, 12, 12, 12, 12, 12, 13, 13, 13, 13, 14, 14, 14, 14, 14, 15, 15, 15, 15, 15, 16, 16, 16, 16, 16, 16, 16, 16, 16, 16, 17, 17, 17, 18, 18, 18, 18, 19, 19, 19, 20, 20, 20, 20, 21, 21, 21, 21, 22, 22, 22, 22, 22, 23, 23, 23, 23, 23, 25, 26, 26, 28, 29, 30, 35]'"
      ]
     },
     "execution_count": 21,
     "metadata": {},
     "output_type": "execute_result"
    }
   ],
   "source": [
    "str(full_scores)"
   ]
  },
  {
   "cell_type": "code",
   "execution_count": 22,
   "metadata": {},
   "outputs": [
    {
     "data": {
      "image/png": "[encoded data removed]",
      "text/plain": [
       "<Figure size 432x288 with 1 Axes>"
      ]
     },
     "metadata": {
      "needs_background": "light"
     },
     "output_type": "display_data"
    }
   ],
   "source": [
    "plt.hist(full_scores, bins=range(-30, 50, 10))\n",
    "plt.show()"
   ]
  },
  {
   "cell_type": "markdown",
   "metadata": {},
   "source": [
    "## **Combine the contents of df_full**"
   ]
  },
  {
   "cell_type": "code",
   "execution_count": 23,
   "metadata": {},
   "outputs": [
    {
     "name": "stdout",
     "output_type": "stream",
     "text": [
      "Length of whole text: \n",
      "147075\n",
      "\n"
     ]
    }
   ],
   "source": [
    "whole_text = \"\"\n",
    "row_num = df_full.index[0]\n",
    "for row in df_full.iterrows():\n",
    "    try:\n",
    "        row_text = df_small['text'][row_num]\n",
    "    except KeyError:\n",
    "        continue\n",
    "    whole_text += row_text\n",
    "    row_num += 1\n",
    "print('Length of whole text: \\n' + str(len(whole_text)) + '\\n')"
   ]
  },
  {
   "cell_type": "markdown",
   "metadata": {},
   "source": [
    "## **Import the stopwords (words without connotation)**"
   ]
  },
  {
   "cell_type": "code",
   "execution_count": 24,
   "metadata": {},
   "outputs": [],
   "source": [
    "stopword_files = [\"data_raw/stopwords/stopwords.finance.txt\",\n",
    "                  \"data_raw/stopwords/stopwords.geographic.txt\",\n",
    "                  \"data_raw/stopwords/stopwords.names.txt\",\n",
    "                  \"data_raw/stopwords/stopwords.dates.numbers.txt\"]\n",
    "\n",
    "df_stopwords = pd.DataFrame()\n",
    "for file in stopword_files:\n",
    "    df_file = pd.read_csv(file, encoding='windows-1252', names=['stopword'])\n",
    "    df_stopwords = pd.concat([df_stopwords, df_file])"
   ]
  },
  {
   "cell_type": "markdown",
   "metadata": {},
   "source": [
    "## **Convert stopwords to an array**"
   ]
  },
  {
   "cell_type": "code",
   "execution_count": 25,
   "metadata": {},
   "outputs": [
    {
     "name": "stdout",
     "output_type": "stream",
     "text": [
      "Length of stopwords: \n",
      "13346\n",
      "\n"
     ]
    }
   ],
   "source": [
    "df_stopwords = df_stopwords.dropna()\n",
    "df_stopwords = df_stopwords.apply(lambda x: x.str.lower())\n",
    "stopwords = list((df_stopwords['stopword']))\n",
    "stopwords = [s.strip() for s in stopwords]\n",
    "print('Length of stopwords: \\n' + str(len(stopwords)) + '\\n')"
   ]
  },
  {
   "cell_type": "markdown",
   "metadata": {},
   "source": [
    "## **Add the nltk stopwords**"
   ]
  },
  {
   "cell_type": "code",
   "execution_count": 26,
   "metadata": {},
   "outputs": [
    {
     "name": "stdout",
     "output_type": "stream",
     "text": [
      "Length of nltk_stopwords: \n",
      "179\n",
      "\n",
      "Length of stopwords containing only unique words: \n",
      "12315\n",
      "\n"
     ]
    }
   ],
   "source": [
    "nltk_stopwords = list(set(nltk.corpus.stopwords.words('english')))\n",
    "print('Length of nltk_stopwords: \\n' + str(len(nltk_stopwords)) + '\\n')\n",
    "stopwords += nltk_stopwords\n",
    "stopwords = set(stopwords)\n",
    "print('Length of stopwords containing only unique words: \\n' + str(len(stopwords)) + '\\n')"
   ]
  },
  {
   "cell_type": "markdown",
   "metadata": {},
   "source": [
    "## **Apply the stemmer (combine words with similar stems)<br></br>E.g. increase and increasing --> increas**"
   ]
  },
  {
   "cell_type": "code",
   "execution_count": 27,
   "metadata": {},
   "outputs": [
    {
     "name": "stdout",
     "output_type": "stream",
     "text": [
      "Length of whole text: \n",
      "147075\n",
      "\n",
      "Length of stemmed text: \n",
      "133645\n"
     ]
    }
   ],
   "source": [
    "stemmer = SnowballStemmer(\"english\")\n",
    "words = whole_text.split()\n",
    "stemmed_words = [stemmer.stem(word) for word in words]\n",
    "stemmed_words = ' '.join(stemmed_words)\n",
    "print('Length of whole text: \\n' + str(len(whole_text)) + '\\n')\n",
    "print('Length of stemmed text: \\n' + str(len(stemmed_words)))"
   ]
  },
  {
   "cell_type": "markdown",
   "metadata": {},
   "source": [
    "## **Filter out the stopwords and show word cloud**"
   ]
  },
  {
   "cell_type": "code",
   "execution_count": 28,
   "metadata": {},
   "outputs": [
    {
     "data": {
      "image/png": "[encoded data removed]",
      "text/plain": [
       "<Figure size 432x288 with 1 Axes>"
      ]
     },
     "metadata": {
      "needs_background": "light"
     },
     "output_type": "display_data"
    }
   ],
   "source": [
    "wc = WordCloud(background_color='white', max_words=2000, stopwords=stopwords)\n",
    "wc.generate(str(stemmed_words))\n",
    "\n",
    "plt.imshow(wc, interpolation='bilinear')\n",
    "plt.axis('off')\n",
    "plt.show()"
   ]
  }
 ],
 "metadata": {
  "kernelspec": {
   "display_name": "Python 3",
   "language": "python",
   "name": "python3"
  },
  "language_info": {
   "codemirror_mode": {
    "name": "ipython",
    "version": 3
   },
   "file_extension": ".py",
   "mimetype": "text/x-python",
   "name": "python",
   "nbconvert_exporter": "python",
   "pygments_lexer": "ipython3",
   "version": "3.7.4"
  }
 },
 "nbformat": 4,
 "nbformat_minor": 4
}
